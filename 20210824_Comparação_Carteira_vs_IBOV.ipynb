{
  "nbformat": 4,
  "nbformat_minor": 0,
  "metadata": {
    "colab": {
      "name": "20210824 - Comparação Carteira vs IBOV.ipynb",
      "provenance": [],
      "include_colab_link": true
    },
    "kernelspec": {
      "name": "python3",
      "display_name": "Python 3"
    },
    "language_info": {
      "name": "python"
    }
  },
  "cells": [
    {
      "cell_type": "markdown",
      "metadata": {
        "id": "view-in-github",
        "colab_type": "text"
      },
      "source": [
        "<a href=\"https://colab.research.google.com/github/educostinha/tutoriais_publicos/blob/main/20210824_Compara%C3%A7%C3%A3o_Carteira_vs_IBOV.ipynb\" target=\"_parent\"><img src=\"https://colab.research.google.com/assets/colab-badge.svg\" alt=\"Open In Colab\"/></a>"
      ]
    },
    {
      "cell_type": "markdown",
      "metadata": {
        "id": "cPHJmLsAS5Js"
      },
      "source": [
        "# Código para comparação de uma carteira fictícia vs IBOV"
      ]
    },
    {
      "cell_type": "markdown",
      "metadata": {
        "id": "GiqLrjMJGDnZ"
      },
      "source": [
        "## 1. Instalando e importando bibliotecas"
      ]
    },
    {
      "cell_type": "code",
      "metadata": {
        "colab": {
          "base_uri": "https://localhost:8080/"
        },
        "id": "d81aLa1XGOvh",
        "outputId": "7c370950-a6e4-413a-87c9-f0c004895ccc"
      },
      "source": [
        "!pip install yfinance"
      ],
      "execution_count": 1,
      "outputs": [
        {
          "output_type": "stream",
          "name": "stdout",
          "text": [
            "Collecting yfinance\n",
            "  Downloading yfinance-0.1.63.tar.gz (26 kB)\n",
            "Requirement already satisfied: pandas>=0.24 in /usr/local/lib/python3.7/dist-packages (from yfinance) (1.1.5)\n",
            "Requirement already satisfied: numpy>=1.15 in /usr/local/lib/python3.7/dist-packages (from yfinance) (1.19.5)\n",
            "Requirement already satisfied: requests>=2.20 in /usr/local/lib/python3.7/dist-packages (from yfinance) (2.23.0)\n",
            "Requirement already satisfied: multitasking>=0.0.7 in /usr/local/lib/python3.7/dist-packages (from yfinance) (0.0.9)\n",
            "Collecting lxml>=4.5.1\n",
            "  Downloading lxml-4.6.3-cp37-cp37m-manylinux2014_x86_64.whl (6.3 MB)\n",
            "\u001b[K     |████████████████████████████████| 6.3 MB 34.2 MB/s \n",
            "\u001b[?25hRequirement already satisfied: pytz>=2017.2 in /usr/local/lib/python3.7/dist-packages (from pandas>=0.24->yfinance) (2018.9)\n",
            "Requirement already satisfied: python-dateutil>=2.7.3 in /usr/local/lib/python3.7/dist-packages (from pandas>=0.24->yfinance) (2.8.2)\n",
            "Requirement already satisfied: six>=1.5 in /usr/local/lib/python3.7/dist-packages (from python-dateutil>=2.7.3->pandas>=0.24->yfinance) (1.15.0)\n",
            "Requirement already satisfied: certifi>=2017.4.17 in /usr/local/lib/python3.7/dist-packages (from requests>=2.20->yfinance) (2021.5.30)\n",
            "Requirement already satisfied: chardet<4,>=3.0.2 in /usr/local/lib/python3.7/dist-packages (from requests>=2.20->yfinance) (3.0.4)\n",
            "Requirement already satisfied: idna<3,>=2.5 in /usr/local/lib/python3.7/dist-packages (from requests>=2.20->yfinance) (2.10)\n",
            "Requirement already satisfied: urllib3!=1.25.0,!=1.25.1,<1.26,>=1.21.1 in /usr/local/lib/python3.7/dist-packages (from requests>=2.20->yfinance) (1.24.3)\n",
            "Building wheels for collected packages: yfinance\n",
            "  Building wheel for yfinance (setup.py) ... \u001b[?25l\u001b[?25hdone\n",
            "  Created wheel for yfinance: filename=yfinance-0.1.63-py2.py3-none-any.whl size=23918 sha256=188d4db47db12207e1789189daea5ca8301579037a8eb3de80f2a1e61c79504d\n",
            "  Stored in directory: /root/.cache/pip/wheels/fe/87/8b/7ec24486e001d3926537f5f7801f57a74d181be25b11157983\n",
            "Successfully built yfinance\n",
            "Installing collected packages: lxml, yfinance\n",
            "  Attempting uninstall: lxml\n",
            "    Found existing installation: lxml 4.2.6\n",
            "    Uninstalling lxml-4.2.6:\n",
            "      Successfully uninstalled lxml-4.2.6\n",
            "Successfully installed lxml-4.6.3 yfinance-0.1.63\n"
          ]
        }
      ]
    },
    {
      "cell_type": "code",
      "metadata": {
        "id": "RepZm8AQGnKe"
      },
      "source": [
        "import yfinance as yf\n",
        "import pandas as pd\n",
        "import numpy as np"
      ],
      "execution_count": 5,
      "outputs": []
    },
    {
      "cell_type": "markdown",
      "metadata": {
        "id": "z6m9axgvGrfU"
      },
      "source": [
        "## 2. Importando dados"
      ]
    },
    {
      "cell_type": "markdown",
      "metadata": {
        "id": "au3zh1hsgSWx"
      },
      "source": [
        "Repare que vou importar também os dados da cotação do dólar. Posteriormente vou converter a cotação do Ethereum para reais, por isso que estou trazendo a cotação do dólar."
      ]
    },
    {
      "cell_type": "code",
      "metadata": {
        "id": "0afxh-iuGype"
      },
      "source": [
        "ativos = ['PETR4.SA','VALE3.SA', 'WEGE3.SA', \n",
        "          'RADL3.SA', 'OIBR3.SA','KNRI11.SA','FLMA11.SA','BOVA11.SA',\n",
        "          'SMAL11.SA','AAPL34.SA','IVVB11.SA','ETH-USD','USDBRL=X']"
      ],
      "execution_count": 6,
      "outputs": []
    },
    {
      "cell_type": "code",
      "metadata": {
        "id": "dnaRWJI2HFtf"
      },
      "source": [
        "inicio = '2020-05-01'\n",
        "fim = '2021-08-24'"
      ],
      "execution_count": 7,
      "outputs": []
    },
    {
      "cell_type": "code",
      "metadata": {
        "id": "A8R1uR4JHLmU",
        "colab": {
          "base_uri": "https://localhost:8080/"
        },
        "outputId": "a97071e7-f3e4-45cd-e5cd-c58e495d936d"
      },
      "source": [
        "precos = pd.DataFrame()\n",
        "\n",
        "for i in ativos:\n",
        "  precos[i] = yf.download(i, start = inicio, end = fim)['Adj Close']"
      ],
      "execution_count": 8,
      "outputs": [
        {
          "output_type": "stream",
          "name": "stdout",
          "text": [
            "[*********************100%***********************]  1 of 1 completed\n",
            "[*********************100%***********************]  1 of 1 completed\n",
            "[*********************100%***********************]  1 of 1 completed\n",
            "[*********************100%***********************]  1 of 1 completed\n",
            "[*********************100%***********************]  1 of 1 completed\n",
            "[*********************100%***********************]  1 of 1 completed\n",
            "[*********************100%***********************]  1 of 1 completed\n",
            "[*********************100%***********************]  1 of 1 completed\n",
            "[*********************100%***********************]  1 of 1 completed\n",
            "[*********************100%***********************]  1 of 1 completed\n",
            "[*********************100%***********************]  1 of 1 completed\n",
            "[*********************100%***********************]  1 of 1 completed\n",
            "[*********************100%***********************]  1 of 1 completed\n"
          ]
        }
      ]
    },
    {
      "cell_type": "markdown",
      "metadata": {
        "id": "EtDy44X7ggoz"
      },
      "source": [
        "Vamos converter a cotação do Ethereum para reais:"
      ]
    },
    {
      "cell_type": "code",
      "metadata": {
        "id": "e1H-ifQST2qs"
      },
      "source": [
        "precos['ETH-BRL'] = precos['ETH-USD']*precos['USDBRL=X']"
      ],
      "execution_count": 9,
      "outputs": []
    },
    {
      "cell_type": "markdown",
      "metadata": {
        "id": "Kvie182GhBXG"
      },
      "source": [
        "Agora podemos remover as colunas do Ethereum em dólares e da cotação do dólar"
      ]
    },
    {
      "cell_type": "code",
      "metadata": {
        "id": "oOa4kFUyT_MC"
      },
      "source": [
        "precos = precos.drop(columns=['ETH-USD', 'USDBRL=X'])"
      ],
      "execution_count": 10,
      "outputs": []
    },
    {
      "cell_type": "markdown",
      "metadata": {
        "id": "PI0-N2C_hHp7"
      },
      "source": [
        "Vamos normalizar o preço dos ativos para visualizar seus desempenhos"
      ]
    },
    {
      "cell_type": "code",
      "metadata": {
        "id": "fxMP5hxDlGDb"
      },
      "source": [
        "normalizado = precos/precos.iloc[0]"
      ],
      "execution_count": 11,
      "outputs": []
    },
    {
      "cell_type": "code",
      "metadata": {
        "colab": {
          "base_uri": "https://localhost:8080/",
          "height": 477
        },
        "id": "ihthadVAlJWY",
        "outputId": "ede96108-a954-4d9d-ebe6-a834c84fadb9"
      },
      "source": [
        "normalizado.plot(figsize = (8,8));"
      ],
      "execution_count": 12,
      "outputs": [
        {
          "output_type": "display_data",
          "data": {
            "image/png": "[encoded data removed]",
            "text/plain": [
              "<Figure size 576x576 with 1 Axes>"
            ]
          },
          "metadata": {
            "needs_background": "light"
          }
        }
      ]
    },
    {
      "cell_type": "markdown",
      "metadata": {
        "id": "ygXugB2HRUTP"
      },
      "source": [
        "## 3. Simulação de uma carteira fictícia"
      ]
    },
    {
      "cell_type": "markdown",
      "metadata": {
        "id": "WjLyg_YAhNTN"
      },
      "source": [
        "Criando um dicionário com as alocações que vamos fazer para cada ativo na nossa carteira"
      ]
    },
    {
      "cell_type": "code",
      "metadata": {
        "id": "yvScK3egUh4j"
      },
      "source": [
        "compras = {'PETR4.SA': 1000, 'VALE3.SA': 700, 'WEGE3.SA': 1500, \n",
        "           'RADL3.SA': 700, 'OIBR3.SA': 200, 'KNRI11.SA': 700, 'FLMA11.SA': 700, 'BOVA11.SA':1500,\n",
        "           'SMAL11.SA': 1500, 'AAPL34.SA': 2000, 'IVVB11.SA': 1500, \n",
        "           'ETH-BRL': 200}\n",
        "           \n",
        "compras_df = pd.Series(data=compras, index=list(compras.keys()))"
      ],
      "execution_count": 13,
      "outputs": []
    },
    {
      "cell_type": "markdown",
      "metadata": {
        "id": "PD6qNIYRhRwe"
      },
      "source": [
        "Qual o valor total da nossa carteira?"
      ]
    },
    {
      "cell_type": "code",
      "metadata": {
        "colab": {
          "base_uri": "https://localhost:8080/"
        },
        "id": "hXoBtcLGVl4T",
        "outputId": "90841b5a-11b7-485a-b001-66c8740d6bc9"
      },
      "source": [
        "sum(compras.values())"
      ],
      "execution_count": 14,
      "outputs": [
        {
          "output_type": "execute_result",
          "data": {
            "text/plain": [
              "12200"
            ]
          },
          "metadata": {},
          "execution_count": 14
        }
      ]
    },
    {
      "cell_type": "markdown",
      "metadata": {
        "id": "7r7Z_dvyhVp1"
      },
      "source": [
        "Obtendo preços dos ativos no primeiro dia do investimento"
      ]
    },
    {
      "cell_type": "code",
      "metadata": {
        "id": "kducAbvOTQbG"
      },
      "source": [
        "primeiro = precos.iloc[0]"
      ],
      "execution_count": 15,
      "outputs": []
    },
    {
      "cell_type": "markdown",
      "metadata": {
        "id": "MLlDt8g_hbt_"
      },
      "source": [
        "Quantidade de papéis comprados de cada ativo"
      ]
    },
    {
      "cell_type": "code",
      "metadata": {
        "id": "Ch8fKAB-UtHL"
      },
      "source": [
        "qtd_acoes = compras_df/primeiro"
      ],
      "execution_count": 16,
      "outputs": []
    },
    {
      "cell_type": "markdown",
      "metadata": {
        "id": "e_6vFWFHhe39"
      },
      "source": [
        "Criando um dataframe que contém a posição diária de cada ativo"
      ]
    },
    {
      "cell_type": "code",
      "metadata": {
        "id": "xip2jxnXTquR"
      },
      "source": [
        "PL = precos*qtd_acoes"
      ],
      "execution_count": 17,
      "outputs": []
    },
    {
      "cell_type": "code",
      "metadata": {
        "colab": {
          "base_uri": "https://localhost:8080/",
          "height": 173
        },
        "id": "5Ylaf9YhWks8",
        "outputId": "5e686bcf-5375-464c-c738-30a7d5bf6bcf"
      },
      "source": [
        "PL.head(3)"
      ],
      "execution_count": 18,
      "outputs": [
        {
          "output_type": "execute_result",
          "data": {
            "text/html": [
              "<div>\n",
              "<style scoped>\n",
              "    .dataframe tbody tr th:only-of-type {\n",
              "        vertical-align: middle;\n",
              "    }\n",
              "\n",
              "    .dataframe tbody tr th {\n",
              "        vertical-align: top;\n",
              "    }\n",
              "\n",
              "    .dataframe thead th {\n",
              "        text-align: right;\n",
              "    }\n",
              "</style>\n",
              "<table border=\"1\" class=\"dataframe\">\n",
              "  <thead>\n",
              "    <tr style=\"text-align: right;\">\n",
              "      <th></th>\n",
              "      <th>PETR4.SA</th>\n",
              "      <th>VALE3.SA</th>\n",
              "      <th>WEGE3.SA</th>\n",
              "      <th>RADL3.SA</th>\n",
              "      <th>OIBR3.SA</th>\n",
              "      <th>KNRI11.SA</th>\n",
              "      <th>FLMA11.SA</th>\n",
              "      <th>BOVA11.SA</th>\n",
              "      <th>SMAL11.SA</th>\n",
              "      <th>AAPL34.SA</th>\n",
              "      <th>IVVB11.SA</th>\n",
              "      <th>ETH-BRL</th>\n",
              "    </tr>\n",
              "    <tr>\n",
              "      <th>Date</th>\n",
              "      <th></th>\n",
              "      <th></th>\n",
              "      <th></th>\n",
              "      <th></th>\n",
              "      <th></th>\n",
              "      <th></th>\n",
              "      <th></th>\n",
              "      <th></th>\n",
              "      <th></th>\n",
              "      <th></th>\n",
              "      <th></th>\n",
              "      <th></th>\n",
              "    </tr>\n",
              "  </thead>\n",
              "  <tbody>\n",
              "    <tr>\n",
              "      <th>2020-05-04</th>\n",
              "      <td>1000.000000</td>\n",
              "      <td>700.000000</td>\n",
              "      <td>1500.000000</td>\n",
              "      <td>700.000000</td>\n",
              "      <td>200.000000</td>\n",
              "      <td>700.000000</td>\n",
              "      <td>700.000000</td>\n",
              "      <td>1500.000000</td>\n",
              "      <td>1500.000000</td>\n",
              "      <td>2000.000000</td>\n",
              "      <td>1500.000000</td>\n",
              "      <td>200.000000</td>\n",
              "    </tr>\n",
              "    <tr>\n",
              "      <th>2020-05-05</th>\n",
              "      <td>1032.221098</td>\n",
              "      <td>696.335095</td>\n",
              "      <td>1468.749818</td>\n",
              "      <td>696.987459</td>\n",
              "      <td>205.882347</td>\n",
              "      <td>702.685449</td>\n",
              "      <td>739.622642</td>\n",
              "      <td>1508.672847</td>\n",
              "      <td>1479.377360</td>\n",
              "      <td>2059.369477</td>\n",
              "      <td>1526.950431</td>\n",
              "      <td>200.962154</td>\n",
              "    </tr>\n",
              "    <tr>\n",
              "      <th>2020-05-06</th>\n",
              "      <td>994.246331</td>\n",
              "      <td>706.373804</td>\n",
              "      <td>1461.972705</td>\n",
              "      <td>693.037541</td>\n",
              "      <td>205.882347</td>\n",
              "      <td>717.231486</td>\n",
              "      <td>748.427673</td>\n",
              "      <td>1501.971061</td>\n",
              "      <td>1462.333842</td>\n",
              "      <td>2137.167793</td>\n",
              "      <td>1548.315577</td>\n",
              "      <td>199.662245</td>\n",
              "    </tr>\n",
              "  </tbody>\n",
              "</table>\n",
              "</div>"
            ],
            "text/plain": [
              "               PETR4.SA    VALE3.SA  ...    IVVB11.SA     ETH-BRL\n",
              "Date                                 ...                         \n",
              "2020-05-04  1000.000000  700.000000  ...  1500.000000  200.000000\n",
              "2020-05-05  1032.221098  696.335095  ...  1526.950431  200.962154\n",
              "2020-05-06   994.246331  706.373804  ...  1548.315577  199.662245\n",
              "\n",
              "[3 rows x 12 columns]"
            ]
          },
          "metadata": {},
          "execution_count": 18
        }
      ]
    },
    {
      "cell_type": "code",
      "metadata": {
        "colab": {
          "base_uri": "https://localhost:8080/",
          "height": 235
        },
        "id": "x5dKstQCT-Sd",
        "outputId": "2d2d6228-1947-468c-fcdd-b08bc93c2a8f"
      },
      "source": [
        "PL.tail()"
      ],
      "execution_count": 19,
      "outputs": [
        {
          "output_type": "execute_result",
          "data": {
            "text/html": [
              "<div>\n",
              "<style scoped>\n",
              "    .dataframe tbody tr th:only-of-type {\n",
              "        vertical-align: middle;\n",
              "    }\n",
              "\n",
              "    .dataframe tbody tr th {\n",
              "        vertical-align: top;\n",
              "    }\n",
              "\n",
              "    .dataframe thead th {\n",
              "        text-align: right;\n",
              "    }\n",
              "</style>\n",
              "<table border=\"1\" class=\"dataframe\">\n",
              "  <thead>\n",
              "    <tr style=\"text-align: right;\">\n",
              "      <th></th>\n",
              "      <th>PETR4.SA</th>\n",
              "      <th>VALE3.SA</th>\n",
              "      <th>WEGE3.SA</th>\n",
              "      <th>RADL3.SA</th>\n",
              "      <th>OIBR3.SA</th>\n",
              "      <th>KNRI11.SA</th>\n",
              "      <th>FLMA11.SA</th>\n",
              "      <th>BOVA11.SA</th>\n",
              "      <th>SMAL11.SA</th>\n",
              "      <th>AAPL34.SA</th>\n",
              "      <th>IVVB11.SA</th>\n",
              "      <th>ETH-BRL</th>\n",
              "    </tr>\n",
              "    <tr>\n",
              "      <th>Date</th>\n",
              "      <th></th>\n",
              "      <th></th>\n",
              "      <th></th>\n",
              "      <th></th>\n",
              "      <th></th>\n",
              "      <th></th>\n",
              "      <th></th>\n",
              "      <th></th>\n",
              "      <th></th>\n",
              "      <th></th>\n",
              "      <th></th>\n",
              "      <th></th>\n",
              "    </tr>\n",
              "  </thead>\n",
              "  <tbody>\n",
              "    <tr>\n",
              "      <th>2021-08-17</th>\n",
              "      <td>1703.360143</td>\n",
              "      <td>1892.935895</td>\n",
              "      <td>2648.266096</td>\n",
              "      <td>855.407466</td>\n",
              "      <td>299.999991</td>\n",
              "      <td>594.955233</td>\n",
              "      <td>586.283011</td>\n",
              "      <td>2234.231289</td>\n",
              "      <td>2217.361714</td>\n",
              "      <td>3962.566456</td>\n",
              "      <td>2256.649004</td>\n",
              "      <td>2781.549609</td>\n",
              "    </tr>\n",
              "    <tr>\n",
              "      <th>2021-08-18</th>\n",
              "      <td>1688.235983</td>\n",
              "      <td>1829.425369</td>\n",
              "      <td>2563.528003</td>\n",
              "      <td>852.039707</td>\n",
              "      <td>297.058818</td>\n",
              "      <td>595.134300</td>\n",
              "      <td>581.132075</td>\n",
              "      <td>2208.804201</td>\n",
              "      <td>2220.259080</td>\n",
              "      <td>3953.062577</td>\n",
              "      <td>2273.936211</td>\n",
              "      <td>2804.717612</td>\n",
              "    </tr>\n",
              "    <tr>\n",
              "      <th>2021-08-19</th>\n",
              "      <td>1678.783279</td>\n",
              "      <td>1725.048420</td>\n",
              "      <td>2686.436742</td>\n",
              "      <td>883.022973</td>\n",
              "      <td>299.999991</td>\n",
              "      <td>587.659883</td>\n",
              "      <td>583.333333</td>\n",
              "      <td>2224.375836</td>\n",
              "      <td>2275.309569</td>\n",
              "      <td>3985.575505</td>\n",
              "      <td>2308.422157</td>\n",
              "      <td>3002.797046</td>\n",
              "    </tr>\n",
              "    <tr>\n",
              "      <th>2021-08-20</th>\n",
              "      <td>1676.262645</td>\n",
              "      <td>1725.756132</td>\n",
              "      <td>2746.746053</td>\n",
              "      <td>898.177855</td>\n",
              "      <td>305.882339</td>\n",
              "      <td>596.566489</td>\n",
              "      <td>582.496845</td>\n",
              "      <td>2240.144622</td>\n",
              "      <td>2316.384508</td>\n",
              "      <td>3993.578470</td>\n",
              "      <td>2303.102954</td>\n",
              "      <td>3121.606584</td>\n",
              "    </tr>\n",
              "    <tr>\n",
              "      <th>2021-08-23</th>\n",
              "      <td>1702.729955</td>\n",
              "      <td>1701.873159</td>\n",
              "      <td>2729.187621</td>\n",
              "      <td>892.452685</td>\n",
              "      <td>338.235284</td>\n",
              "      <td>623.196980</td>\n",
              "      <td>573.867951</td>\n",
              "      <td>2228.318107</td>\n",
              "      <td>2316.213906</td>\n",
              "      <td>4037.095810</td>\n",
              "      <td>2332.358166</td>\n",
              "      <td>3131.866252</td>\n",
              "    </tr>\n",
              "  </tbody>\n",
              "</table>\n",
              "</div>"
            ],
            "text/plain": [
              "               PETR4.SA     VALE3.SA  ...    IVVB11.SA      ETH-BRL\n",
              "Date                                  ...                          \n",
              "2021-08-17  1703.360143  1892.935895  ...  2256.649004  2781.549609\n",
              "2021-08-18  1688.235983  1829.425369  ...  2273.936211  2804.717612\n",
              "2021-08-19  1678.783279  1725.048420  ...  2308.422157  3002.797046\n",
              "2021-08-20  1676.262645  1725.756132  ...  2303.102954  3121.606584\n",
              "2021-08-23  1702.729955  1701.873159  ...  2332.358166  3131.866252\n",
              "\n",
              "[5 rows x 12 columns]"
            ]
          },
          "metadata": {},
          "execution_count": 19
        }
      ]
    },
    {
      "cell_type": "markdown",
      "metadata": {
        "id": "8ww6Ls7OhjC-"
      },
      "source": [
        "Criando uma coluna que contém a posição consolidada da nossa carteira diariamente"
      ]
    },
    {
      "cell_type": "code",
      "metadata": {
        "id": "rAWeyr0tT_QU"
      },
      "source": [
        "PL['PL Total'] = PL.iloc[:].sum(axis = 1)"
      ],
      "execution_count": 20,
      "outputs": []
    },
    {
      "cell_type": "code",
      "metadata": {
        "colab": {
          "base_uri": "https://localhost:8080/",
          "height": 235
        },
        "id": "IZHg_ZGdUruQ",
        "outputId": "ba1a6572-171a-4114-d211-5a286b4224ad"
      },
      "source": [
        "PL.head()"
      ],
      "execution_count": 21,
      "outputs": [
        {
          "output_type": "execute_result",
          "data": {
            "text/html": [
              "<div>\n",
              "<style scoped>\n",
              "    .dataframe tbody tr th:only-of-type {\n",
              "        vertical-align: middle;\n",
              "    }\n",
              "\n",
              "    .dataframe tbody tr th {\n",
              "        vertical-align: top;\n",
              "    }\n",
              "\n",
              "    .dataframe thead th {\n",
              "        text-align: right;\n",
              "    }\n",
              "</style>\n",
              "<table border=\"1\" class=\"dataframe\">\n",
              "  <thead>\n",
              "    <tr style=\"text-align: right;\">\n",
              "      <th></th>\n",
              "      <th>PETR4.SA</th>\n",
              "      <th>VALE3.SA</th>\n",
              "      <th>WEGE3.SA</th>\n",
              "      <th>RADL3.SA</th>\n",
              "      <th>OIBR3.SA</th>\n",
              "      <th>KNRI11.SA</th>\n",
              "      <th>FLMA11.SA</th>\n",
              "      <th>BOVA11.SA</th>\n",
              "      <th>SMAL11.SA</th>\n",
              "      <th>AAPL34.SA</th>\n",
              "      <th>IVVB11.SA</th>\n",
              "      <th>ETH-BRL</th>\n",
              "      <th>PL Total</th>\n",
              "    </tr>\n",
              "    <tr>\n",
              "      <th>Date</th>\n",
              "      <th></th>\n",
              "      <th></th>\n",
              "      <th></th>\n",
              "      <th></th>\n",
              "      <th></th>\n",
              "      <th></th>\n",
              "      <th></th>\n",
              "      <th></th>\n",
              "      <th></th>\n",
              "      <th></th>\n",
              "      <th></th>\n",
              "      <th></th>\n",
              "      <th></th>\n",
              "    </tr>\n",
              "  </thead>\n",
              "  <tbody>\n",
              "    <tr>\n",
              "      <th>2020-05-04</th>\n",
              "      <td>1000.000000</td>\n",
              "      <td>700.000000</td>\n",
              "      <td>1500.000000</td>\n",
              "      <td>700.000000</td>\n",
              "      <td>200.000000</td>\n",
              "      <td>700.000000</td>\n",
              "      <td>700.000000</td>\n",
              "      <td>1500.000000</td>\n",
              "      <td>1500.000000</td>\n",
              "      <td>2000.000000</td>\n",
              "      <td>1500.000000</td>\n",
              "      <td>200.000000</td>\n",
              "      <td>12200.000000</td>\n",
              "    </tr>\n",
              "    <tr>\n",
              "      <th>2020-05-05</th>\n",
              "      <td>1032.221098</td>\n",
              "      <td>696.335095</td>\n",
              "      <td>1468.749818</td>\n",
              "      <td>696.987459</td>\n",
              "      <td>205.882347</td>\n",
              "      <td>702.685449</td>\n",
              "      <td>739.622642</td>\n",
              "      <td>1508.672847</td>\n",
              "      <td>1479.377360</td>\n",
              "      <td>2059.369477</td>\n",
              "      <td>1526.950431</td>\n",
              "      <td>200.962154</td>\n",
              "      <td>12317.816176</td>\n",
              "    </tr>\n",
              "    <tr>\n",
              "      <th>2020-05-06</th>\n",
              "      <td>994.246331</td>\n",
              "      <td>706.373804</td>\n",
              "      <td>1461.972705</td>\n",
              "      <td>693.037541</td>\n",
              "      <td>205.882347</td>\n",
              "      <td>717.231486</td>\n",
              "      <td>748.427673</td>\n",
              "      <td>1501.971061</td>\n",
              "      <td>1462.333842</td>\n",
              "      <td>2137.167793</td>\n",
              "      <td>1548.315577</td>\n",
              "      <td>199.662245</td>\n",
              "      <td>12376.622406</td>\n",
              "    </tr>\n",
              "    <tr>\n",
              "      <th>2020-05-07</th>\n",
              "      <td>1003.452454</td>\n",
              "      <td>733.780959</td>\n",
              "      <td>1471.761933</td>\n",
              "      <td>694.175587</td>\n",
              "      <td>197.058826</td>\n",
              "      <td>716.112560</td>\n",
              "      <td>748.427673</td>\n",
              "      <td>1486.202425</td>\n",
              "      <td>1431.655459</td>\n",
              "      <td>2200.000095</td>\n",
              "      <td>1622.340455</td>\n",
              "      <td>212.823946</td>\n",
              "      <td>12517.792371</td>\n",
              "    </tr>\n",
              "    <tr>\n",
              "      <th>2020-05-08</th>\n",
              "      <td>1063.291199</td>\n",
              "      <td>778.397510</td>\n",
              "      <td>1439.758868</td>\n",
              "      <td>700.803383</td>\n",
              "      <td>202.941174</td>\n",
              "      <td>727.301819</td>\n",
              "      <td>726.415094</td>\n",
              "      <td>1526.215543</td>\n",
              "      <td>1433.359785</td>\n",
              "      <td>2220.108638</td>\n",
              "      <td>1602.393646</td>\n",
              "      <td>217.769114</td>\n",
              "      <td>12638.755771</td>\n",
              "    </tr>\n",
              "  </tbody>\n",
              "</table>\n",
              "</div>"
            ],
            "text/plain": [
              "               PETR4.SA    VALE3.SA  ...     ETH-BRL      PL Total\n",
              "Date                                 ...                          \n",
              "2020-05-04  1000.000000  700.000000  ...  200.000000  12200.000000\n",
              "2020-05-05  1032.221098  696.335095  ...  200.962154  12317.816176\n",
              "2020-05-06   994.246331  706.373804  ...  199.662245  12376.622406\n",
              "2020-05-07  1003.452454  733.780959  ...  212.823946  12517.792371\n",
              "2020-05-08  1063.291199  778.397510  ...  217.769114  12638.755771\n",
              "\n",
              "[5 rows x 13 columns]"
            ]
          },
          "metadata": {},
          "execution_count": 21
        }
      ]
    },
    {
      "cell_type": "code",
      "metadata": {
        "colab": {
          "base_uri": "https://localhost:8080/",
          "height": 235
        },
        "id": "tYIfKHq5Uudb",
        "outputId": "e6b544e9-cc8d-4efb-81bb-18e706341e49"
      },
      "source": [
        "PL.tail()"
      ],
      "execution_count": 22,
      "outputs": [
        {
          "output_type": "execute_result",
          "data": {
            "text/html": [
              "<div>\n",
              "<style scoped>\n",
              "    .dataframe tbody tr th:only-of-type {\n",
              "        vertical-align: middle;\n",
              "    }\n",
              "\n",
              "    .dataframe tbody tr th {\n",
              "        vertical-align: top;\n",
              "    }\n",
              "\n",
              "    .dataframe thead th {\n",
              "        text-align: right;\n",
              "    }\n",
              "</style>\n",
              "<table border=\"1\" class=\"dataframe\">\n",
              "  <thead>\n",
              "    <tr style=\"text-align: right;\">\n",
              "      <th></th>\n",
              "      <th>PETR4.SA</th>\n",
              "      <th>VALE3.SA</th>\n",
              "      <th>WEGE3.SA</th>\n",
              "      <th>RADL3.SA</th>\n",
              "      <th>OIBR3.SA</th>\n",
              "      <th>KNRI11.SA</th>\n",
              "      <th>FLMA11.SA</th>\n",
              "      <th>BOVA11.SA</th>\n",
              "      <th>SMAL11.SA</th>\n",
              "      <th>AAPL34.SA</th>\n",
              "      <th>IVVB11.SA</th>\n",
              "      <th>ETH-BRL</th>\n",
              "      <th>PL Total</th>\n",
              "    </tr>\n",
              "    <tr>\n",
              "      <th>Date</th>\n",
              "      <th></th>\n",
              "      <th></th>\n",
              "      <th></th>\n",
              "      <th></th>\n",
              "      <th></th>\n",
              "      <th></th>\n",
              "      <th></th>\n",
              "      <th></th>\n",
              "      <th></th>\n",
              "      <th></th>\n",
              "      <th></th>\n",
              "      <th></th>\n",
              "      <th></th>\n",
              "    </tr>\n",
              "  </thead>\n",
              "  <tbody>\n",
              "    <tr>\n",
              "      <th>2021-08-17</th>\n",
              "      <td>1703.360143</td>\n",
              "      <td>1892.935895</td>\n",
              "      <td>2648.266096</td>\n",
              "      <td>855.407466</td>\n",
              "      <td>299.999991</td>\n",
              "      <td>594.955233</td>\n",
              "      <td>586.283011</td>\n",
              "      <td>2234.231289</td>\n",
              "      <td>2217.361714</td>\n",
              "      <td>3962.566456</td>\n",
              "      <td>2256.649004</td>\n",
              "      <td>2781.549609</td>\n",
              "      <td>22033.565907</td>\n",
              "    </tr>\n",
              "    <tr>\n",
              "      <th>2021-08-18</th>\n",
              "      <td>1688.235983</td>\n",
              "      <td>1829.425369</td>\n",
              "      <td>2563.528003</td>\n",
              "      <td>852.039707</td>\n",
              "      <td>297.058818</td>\n",
              "      <td>595.134300</td>\n",
              "      <td>581.132075</td>\n",
              "      <td>2208.804201</td>\n",
              "      <td>2220.259080</td>\n",
              "      <td>3953.062577</td>\n",
              "      <td>2273.936211</td>\n",
              "      <td>2804.717612</td>\n",
              "      <td>21867.333937</td>\n",
              "    </tr>\n",
              "    <tr>\n",
              "      <th>2021-08-19</th>\n",
              "      <td>1678.783279</td>\n",
              "      <td>1725.048420</td>\n",
              "      <td>2686.436742</td>\n",
              "      <td>883.022973</td>\n",
              "      <td>299.999991</td>\n",
              "      <td>587.659883</td>\n",
              "      <td>583.333333</td>\n",
              "      <td>2224.375836</td>\n",
              "      <td>2275.309569</td>\n",
              "      <td>3985.575505</td>\n",
              "      <td>2308.422157</td>\n",
              "      <td>3002.797046</td>\n",
              "      <td>22240.764734</td>\n",
              "    </tr>\n",
              "    <tr>\n",
              "      <th>2021-08-20</th>\n",
              "      <td>1676.262645</td>\n",
              "      <td>1725.756132</td>\n",
              "      <td>2746.746053</td>\n",
              "      <td>898.177855</td>\n",
              "      <td>305.882339</td>\n",
              "      <td>596.566489</td>\n",
              "      <td>582.496845</td>\n",
              "      <td>2240.144622</td>\n",
              "      <td>2316.384508</td>\n",
              "      <td>3993.578470</td>\n",
              "      <td>2303.102954</td>\n",
              "      <td>3121.606584</td>\n",
              "      <td>22506.705497</td>\n",
              "    </tr>\n",
              "    <tr>\n",
              "      <th>2021-08-23</th>\n",
              "      <td>1702.729955</td>\n",
              "      <td>1701.873159</td>\n",
              "      <td>2729.187621</td>\n",
              "      <td>892.452685</td>\n",
              "      <td>338.235284</td>\n",
              "      <td>623.196980</td>\n",
              "      <td>573.867951</td>\n",
              "      <td>2228.318107</td>\n",
              "      <td>2316.213906</td>\n",
              "      <td>4037.095810</td>\n",
              "      <td>2332.358166</td>\n",
              "      <td>3131.866252</td>\n",
              "      <td>22607.395876</td>\n",
              "    </tr>\n",
              "  </tbody>\n",
              "</table>\n",
              "</div>"
            ],
            "text/plain": [
              "               PETR4.SA     VALE3.SA  ...      ETH-BRL      PL Total\n",
              "Date                                  ...                           \n",
              "2021-08-17  1703.360143  1892.935895  ...  2781.549609  22033.565907\n",
              "2021-08-18  1688.235983  1829.425369  ...  2804.717612  21867.333937\n",
              "2021-08-19  1678.783279  1725.048420  ...  3002.797046  22240.764734\n",
              "2021-08-20  1676.262645  1725.756132  ...  3121.606584  22506.705497\n",
              "2021-08-23  1702.729955  1701.873159  ...  3131.866252  22607.395876\n",
              "\n",
              "[5 rows x 13 columns]"
            ]
          },
          "metadata": {},
          "execution_count": 22
        }
      ]
    },
    {
      "cell_type": "markdown",
      "metadata": {
        "id": "BFlZaQxxTNiU"
      },
      "source": [
        "## 4. Obtendo dados do IBOV (ou outros benchmarks)"
      ]
    },
    {
      "cell_type": "markdown",
      "metadata": {
        "id": "fuOiDSQMhnQd"
      },
      "source": [
        "Obtendo dados do IBOV para comparar com a nossa carteira"
      ]
    },
    {
      "cell_type": "code",
      "metadata": {
        "colab": {
          "base_uri": "https://localhost:8080/"
        },
        "id": "Ux0eiVaGUx3m",
        "outputId": "6c8cade9-ee81-4427-8f02-1f7c46f280ec"
      },
      "source": [
        "ibov = yf.download('^BVSP', start = inicio, end = fim)"
      ],
      "execution_count": 23,
      "outputs": [
        {
          "output_type": "stream",
          "name": "stdout",
          "text": [
            "\r[*********************100%***********************]  1 of 1 completed\n"
          ]
        }
      ]
    },
    {
      "cell_type": "code",
      "metadata": {
        "colab": {
          "base_uri": "https://localhost:8080/",
          "height": 235
        },
        "id": "dfC40kGbVVcm",
        "outputId": "432b387c-08d0-4c22-8251-e9a487e2eae3"
      },
      "source": [
        "ibov.head()"
      ],
      "execution_count": 24,
      "outputs": [
        {
          "output_type": "execute_result",
          "data": {
            "text/html": [
              "<div>\n",
              "<style scoped>\n",
              "    .dataframe tbody tr th:only-of-type {\n",
              "        vertical-align: middle;\n",
              "    }\n",
              "\n",
              "    .dataframe tbody tr th {\n",
              "        vertical-align: top;\n",
              "    }\n",
              "\n",
              "    .dataframe thead th {\n",
              "        text-align: right;\n",
              "    }\n",
              "</style>\n",
              "<table border=\"1\" class=\"dataframe\">\n",
              "  <thead>\n",
              "    <tr style=\"text-align: right;\">\n",
              "      <th></th>\n",
              "      <th>Open</th>\n",
              "      <th>High</th>\n",
              "      <th>Low</th>\n",
              "      <th>Close</th>\n",
              "      <th>Adj Close</th>\n",
              "      <th>Volume</th>\n",
              "    </tr>\n",
              "    <tr>\n",
              "      <th>Date</th>\n",
              "      <th></th>\n",
              "      <th></th>\n",
              "      <th></th>\n",
              "      <th></th>\n",
              "      <th></th>\n",
              "      <th></th>\n",
              "    </tr>\n",
              "  </thead>\n",
              "  <tbody>\n",
              "    <tr>\n",
              "      <th>2020-05-04</th>\n",
              "      <td>80501.0</td>\n",
              "      <td>80502.0</td>\n",
              "      <td>77640.0</td>\n",
              "      <td>78876.0</td>\n",
              "      <td>78876.0</td>\n",
              "      <td>8594200</td>\n",
              "    </tr>\n",
              "    <tr>\n",
              "      <th>2020-05-05</th>\n",
              "      <td>78887.0</td>\n",
              "      <td>81066.0</td>\n",
              "      <td>78886.0</td>\n",
              "      <td>79471.0</td>\n",
              "      <td>79471.0</td>\n",
              "      <td>9154700</td>\n",
              "    </tr>\n",
              "    <tr>\n",
              "      <th>2020-05-06</th>\n",
              "      <td>79473.0</td>\n",
              "      <td>79996.0</td>\n",
              "      <td>78056.0</td>\n",
              "      <td>79064.0</td>\n",
              "      <td>79064.0</td>\n",
              "      <td>9775900</td>\n",
              "    </tr>\n",
              "    <tr>\n",
              "      <th>2020-05-07</th>\n",
              "      <td>79072.0</td>\n",
              "      <td>80061.0</td>\n",
              "      <td>78061.0</td>\n",
              "      <td>78119.0</td>\n",
              "      <td>78119.0</td>\n",
              "      <td>13808900</td>\n",
              "    </tr>\n",
              "    <tr>\n",
              "      <th>2020-05-08</th>\n",
              "      <td>78152.0</td>\n",
              "      <td>80557.0</td>\n",
              "      <td>78152.0</td>\n",
              "      <td>80263.0</td>\n",
              "      <td>80263.0</td>\n",
              "      <td>10734400</td>\n",
              "    </tr>\n",
              "  </tbody>\n",
              "</table>\n",
              "</div>"
            ],
            "text/plain": [
              "               Open     High      Low    Close  Adj Close    Volume\n",
              "Date                                                               \n",
              "2020-05-04  80501.0  80502.0  77640.0  78876.0    78876.0   8594200\n",
              "2020-05-05  78887.0  81066.0  78886.0  79471.0    79471.0   9154700\n",
              "2020-05-06  79473.0  79996.0  78056.0  79064.0    79064.0   9775900\n",
              "2020-05-07  79072.0  80061.0  78061.0  78119.0    78119.0  13808900\n",
              "2020-05-08  78152.0  80557.0  78152.0  80263.0    80263.0  10734400"
            ]
          },
          "metadata": {},
          "execution_count": 24
        }
      ]
    },
    {
      "cell_type": "code",
      "metadata": {
        "id": "tsJ1k-bcVXOy"
      },
      "source": [
        "ibov.rename(columns = {'Adj Close': 'IBOV'}, inplace = True)"
      ],
      "execution_count": 25,
      "outputs": []
    },
    {
      "cell_type": "code",
      "metadata": {
        "id": "9GVLjzwbVyhK"
      },
      "source": [
        "ibov = ibov.drop(ibov.columns[[0,1,2,3,5]], axis = 1)"
      ],
      "execution_count": 26,
      "outputs": []
    },
    {
      "cell_type": "code",
      "metadata": {
        "colab": {
          "base_uri": "https://localhost:8080/",
          "height": 450
        },
        "id": "6i8sneEnWSv1",
        "outputId": "1d07a0da-b5c8-4e16-b873-89b9c6ed2b9d"
      },
      "source": [
        "ibov"
      ],
      "execution_count": 27,
      "outputs": [
        {
          "output_type": "execute_result",
          "data": {
            "text/html": [
              "<div>\n",
              "<style scoped>\n",
              "    .dataframe tbody tr th:only-of-type {\n",
              "        vertical-align: middle;\n",
              "    }\n",
              "\n",
              "    .dataframe tbody tr th {\n",
              "        vertical-align: top;\n",
              "    }\n",
              "\n",
              "    .dataframe thead th {\n",
              "        text-align: right;\n",
              "    }\n",
              "</style>\n",
              "<table border=\"1\" class=\"dataframe\">\n",
              "  <thead>\n",
              "    <tr style=\"text-align: right;\">\n",
              "      <th></th>\n",
              "      <th>IBOV</th>\n",
              "    </tr>\n",
              "    <tr>\n",
              "      <th>Date</th>\n",
              "      <th></th>\n",
              "    </tr>\n",
              "  </thead>\n",
              "  <tbody>\n",
              "    <tr>\n",
              "      <th>2020-05-04</th>\n",
              "      <td>78876.0</td>\n",
              "    </tr>\n",
              "    <tr>\n",
              "      <th>2020-05-05</th>\n",
              "      <td>79471.0</td>\n",
              "    </tr>\n",
              "    <tr>\n",
              "      <th>2020-05-06</th>\n",
              "      <td>79064.0</td>\n",
              "    </tr>\n",
              "    <tr>\n",
              "      <th>2020-05-07</th>\n",
              "      <td>78119.0</td>\n",
              "    </tr>\n",
              "    <tr>\n",
              "      <th>2020-05-08</th>\n",
              "      <td>80263.0</td>\n",
              "    </tr>\n",
              "    <tr>\n",
              "      <th>...</th>\n",
              "      <td>...</td>\n",
              "    </tr>\n",
              "    <tr>\n",
              "      <th>2021-08-17</th>\n",
              "      <td>117904.0</td>\n",
              "    </tr>\n",
              "    <tr>\n",
              "      <th>2021-08-18</th>\n",
              "      <td>116643.0</td>\n",
              "    </tr>\n",
              "    <tr>\n",
              "      <th>2021-08-19</th>\n",
              "      <td>117165.0</td>\n",
              "    </tr>\n",
              "    <tr>\n",
              "      <th>2021-08-20</th>\n",
              "      <td>118053.0</td>\n",
              "    </tr>\n",
              "    <tr>\n",
              "      <th>2021-08-23</th>\n",
              "      <td>117472.0</td>\n",
              "    </tr>\n",
              "  </tbody>\n",
              "</table>\n",
              "<p>324 rows × 1 columns</p>\n",
              "</div>"
            ],
            "text/plain": [
              "                IBOV\n",
              "Date                \n",
              "2020-05-04   78876.0\n",
              "2020-05-05   79471.0\n",
              "2020-05-06   79064.0\n",
              "2020-05-07   78119.0\n",
              "2020-05-08   80263.0\n",
              "...              ...\n",
              "2021-08-17  117904.0\n",
              "2021-08-18  116643.0\n",
              "2021-08-19  117165.0\n",
              "2021-08-20  118053.0\n",
              "2021-08-23  117472.0\n",
              "\n",
              "[324 rows x 1 columns]"
            ]
          },
          "metadata": {},
          "execution_count": 27
        }
      ]
    },
    {
      "cell_type": "markdown",
      "metadata": {
        "id": "99erBUbEhufV"
      },
      "source": [
        "Verificando se o índice dos dataframes está no formato 'data'"
      ]
    },
    {
      "cell_type": "code",
      "metadata": {
        "id": "SnlZDqSO0ygr"
      },
      "source": [
        "ibov.index = pd.to_datetime(ibov.index)"
      ],
      "execution_count": 28,
      "outputs": []
    },
    {
      "cell_type": "code",
      "metadata": {
        "id": "vO8ppnFwXA2C"
      },
      "source": [
        "PL.index = pd.to_datetime(PL.index)"
      ],
      "execution_count": 29,
      "outputs": []
    },
    {
      "cell_type": "markdown",
      "metadata": {
        "id": "XIywli3khsft"
      },
      "source": [
        "Juntando tudo num dataframe só"
      ]
    },
    {
      "cell_type": "code",
      "metadata": {
        "id": "7hUOrcb0WTgL"
      },
      "source": [
        "novo_df = pd.merge(ibov, PL, how = 'inner', on = 'Date')"
      ],
      "execution_count": 30,
      "outputs": []
    },
    {
      "cell_type": "code",
      "metadata": {
        "colab": {
          "base_uri": "https://localhost:8080/",
          "height": 235
        },
        "id": "6GLwKN1BW0eC",
        "outputId": "c72b41e5-5ddc-42c0-b333-ad85195c04ab"
      },
      "source": [
        "novo_df.head()"
      ],
      "execution_count": 31,
      "outputs": [
        {
          "output_type": "execute_result",
          "data": {
            "text/html": [
              "<div>\n",
              "<style scoped>\n",
              "    .dataframe tbody tr th:only-of-type {\n",
              "        vertical-align: middle;\n",
              "    }\n",
              "\n",
              "    .dataframe tbody tr th {\n",
              "        vertical-align: top;\n",
              "    }\n",
              "\n",
              "    .dataframe thead th {\n",
              "        text-align: right;\n",
              "    }\n",
              "</style>\n",
              "<table border=\"1\" class=\"dataframe\">\n",
              "  <thead>\n",
              "    <tr style=\"text-align: right;\">\n",
              "      <th></th>\n",
              "      <th>IBOV</th>\n",
              "      <th>PETR4.SA</th>\n",
              "      <th>VALE3.SA</th>\n",
              "      <th>WEGE3.SA</th>\n",
              "      <th>RADL3.SA</th>\n",
              "      <th>OIBR3.SA</th>\n",
              "      <th>KNRI11.SA</th>\n",
              "      <th>FLMA11.SA</th>\n",
              "      <th>BOVA11.SA</th>\n",
              "      <th>SMAL11.SA</th>\n",
              "      <th>AAPL34.SA</th>\n",
              "      <th>IVVB11.SA</th>\n",
              "      <th>ETH-BRL</th>\n",
              "      <th>PL Total</th>\n",
              "    </tr>\n",
              "    <tr>\n",
              "      <th>Date</th>\n",
              "      <th></th>\n",
              "      <th></th>\n",
              "      <th></th>\n",
              "      <th></th>\n",
              "      <th></th>\n",
              "      <th></th>\n",
              "      <th></th>\n",
              "      <th></th>\n",
              "      <th></th>\n",
              "      <th></th>\n",
              "      <th></th>\n",
              "      <th></th>\n",
              "      <th></th>\n",
              "      <th></th>\n",
              "    </tr>\n",
              "  </thead>\n",
              "  <tbody>\n",
              "    <tr>\n",
              "      <th>2020-05-04</th>\n",
              "      <td>78876.0</td>\n",
              "      <td>1000.000000</td>\n",
              "      <td>700.000000</td>\n",
              "      <td>1500.000000</td>\n",
              "      <td>700.000000</td>\n",
              "      <td>200.000000</td>\n",
              "      <td>700.000000</td>\n",
              "      <td>700.000000</td>\n",
              "      <td>1500.000000</td>\n",
              "      <td>1500.000000</td>\n",
              "      <td>2000.000000</td>\n",
              "      <td>1500.000000</td>\n",
              "      <td>200.000000</td>\n",
              "      <td>12200.000000</td>\n",
              "    </tr>\n",
              "    <tr>\n",
              "      <th>2020-05-05</th>\n",
              "      <td>79471.0</td>\n",
              "      <td>1032.221098</td>\n",
              "      <td>696.335095</td>\n",
              "      <td>1468.749818</td>\n",
              "      <td>696.987459</td>\n",
              "      <td>205.882347</td>\n",
              "      <td>702.685449</td>\n",
              "      <td>739.622642</td>\n",
              "      <td>1508.672847</td>\n",
              "      <td>1479.377360</td>\n",
              "      <td>2059.369477</td>\n",
              "      <td>1526.950431</td>\n",
              "      <td>200.962154</td>\n",
              "      <td>12317.816176</td>\n",
              "    </tr>\n",
              "    <tr>\n",
              "      <th>2020-05-06</th>\n",
              "      <td>79064.0</td>\n",
              "      <td>994.246331</td>\n",
              "      <td>706.373804</td>\n",
              "      <td>1461.972705</td>\n",
              "      <td>693.037541</td>\n",
              "      <td>205.882347</td>\n",
              "      <td>717.231486</td>\n",
              "      <td>748.427673</td>\n",
              "      <td>1501.971061</td>\n",
              "      <td>1462.333842</td>\n",
              "      <td>2137.167793</td>\n",
              "      <td>1548.315577</td>\n",
              "      <td>199.662245</td>\n",
              "      <td>12376.622406</td>\n",
              "    </tr>\n",
              "    <tr>\n",
              "      <th>2020-05-07</th>\n",
              "      <td>78119.0</td>\n",
              "      <td>1003.452454</td>\n",
              "      <td>733.780959</td>\n",
              "      <td>1471.761933</td>\n",
              "      <td>694.175587</td>\n",
              "      <td>197.058826</td>\n",
              "      <td>716.112560</td>\n",
              "      <td>748.427673</td>\n",
              "      <td>1486.202425</td>\n",
              "      <td>1431.655459</td>\n",
              "      <td>2200.000095</td>\n",
              "      <td>1622.340455</td>\n",
              "      <td>212.823946</td>\n",
              "      <td>12517.792371</td>\n",
              "    </tr>\n",
              "    <tr>\n",
              "      <th>2020-05-08</th>\n",
              "      <td>80263.0</td>\n",
              "      <td>1063.291199</td>\n",
              "      <td>778.397510</td>\n",
              "      <td>1439.758868</td>\n",
              "      <td>700.803383</td>\n",
              "      <td>202.941174</td>\n",
              "      <td>727.301819</td>\n",
              "      <td>726.415094</td>\n",
              "      <td>1526.215543</td>\n",
              "      <td>1433.359785</td>\n",
              "      <td>2220.108638</td>\n",
              "      <td>1602.393646</td>\n",
              "      <td>217.769114</td>\n",
              "      <td>12638.755771</td>\n",
              "    </tr>\n",
              "  </tbody>\n",
              "</table>\n",
              "</div>"
            ],
            "text/plain": [
              "               IBOV     PETR4.SA  ...     ETH-BRL      PL Total\n",
              "Date                              ...                          \n",
              "2020-05-04  78876.0  1000.000000  ...  200.000000  12200.000000\n",
              "2020-05-05  79471.0  1032.221098  ...  200.962154  12317.816176\n",
              "2020-05-06  79064.0   994.246331  ...  199.662245  12376.622406\n",
              "2020-05-07  78119.0  1003.452454  ...  212.823946  12517.792371\n",
              "2020-05-08  80263.0  1063.291199  ...  217.769114  12638.755771\n",
              "\n",
              "[5 rows x 14 columns]"
            ]
          },
          "metadata": {},
          "execution_count": 31
        }
      ]
    },
    {
      "cell_type": "markdown",
      "metadata": {
        "id": "8gCga6PKhzyl"
      },
      "source": [
        "Normalizando esse novo dataframe que contém o IBOV, todos os ativos e o PL da nossa carteira"
      ]
    },
    {
      "cell_type": "code",
      "metadata": {
        "id": "wsB4ZEeNXSyg"
      },
      "source": [
        "PL_normalizado = novo_df/novo_df.iloc[0]"
      ],
      "execution_count": 32,
      "outputs": []
    },
    {
      "cell_type": "code",
      "metadata": {
        "colab": {
          "base_uri": "https://localhost:8080/",
          "height": 235
        },
        "id": "gLpphux5Xk1T",
        "outputId": "796ef4a3-7c51-4453-cbdb-ac19bb72bbfe"
      },
      "source": [
        "PL_normalizado.head()"
      ],
      "execution_count": 33,
      "outputs": [
        {
          "output_type": "execute_result",
          "data": {
            "text/html": [
              "<div>\n",
              "<style scoped>\n",
              "    .dataframe tbody tr th:only-of-type {\n",
              "        vertical-align: middle;\n",
              "    }\n",
              "\n",
              "    .dataframe tbody tr th {\n",
              "        vertical-align: top;\n",
              "    }\n",
              "\n",
              "    .dataframe thead th {\n",
              "        text-align: right;\n",
              "    }\n",
              "</style>\n",
              "<table border=\"1\" class=\"dataframe\">\n",
              "  <thead>\n",
              "    <tr style=\"text-align: right;\">\n",
              "      <th></th>\n",
              "      <th>IBOV</th>\n",
              "      <th>PETR4.SA</th>\n",
              "      <th>VALE3.SA</th>\n",
              "      <th>WEGE3.SA</th>\n",
              "      <th>RADL3.SA</th>\n",
              "      <th>OIBR3.SA</th>\n",
              "      <th>KNRI11.SA</th>\n",
              "      <th>FLMA11.SA</th>\n",
              "      <th>BOVA11.SA</th>\n",
              "      <th>SMAL11.SA</th>\n",
              "      <th>AAPL34.SA</th>\n",
              "      <th>IVVB11.SA</th>\n",
              "      <th>ETH-BRL</th>\n",
              "      <th>PL Total</th>\n",
              "    </tr>\n",
              "    <tr>\n",
              "      <th>Date</th>\n",
              "      <th></th>\n",
              "      <th></th>\n",
              "      <th></th>\n",
              "      <th></th>\n",
              "      <th></th>\n",
              "      <th></th>\n",
              "      <th></th>\n",
              "      <th></th>\n",
              "      <th></th>\n",
              "      <th></th>\n",
              "      <th></th>\n",
              "      <th></th>\n",
              "      <th></th>\n",
              "      <th></th>\n",
              "    </tr>\n",
              "  </thead>\n",
              "  <tbody>\n",
              "    <tr>\n",
              "      <th>2020-05-04</th>\n",
              "      <td>1.000000</td>\n",
              "      <td>1.000000</td>\n",
              "      <td>1.000000</td>\n",
              "      <td>1.000000</td>\n",
              "      <td>1.000000</td>\n",
              "      <td>1.000000</td>\n",
              "      <td>1.000000</td>\n",
              "      <td>1.000000</td>\n",
              "      <td>1.000000</td>\n",
              "      <td>1.000000</td>\n",
              "      <td>1.000000</td>\n",
              "      <td>1.000000</td>\n",
              "      <td>1.000000</td>\n",
              "      <td>1.000000</td>\n",
              "    </tr>\n",
              "    <tr>\n",
              "      <th>2020-05-05</th>\n",
              "      <td>1.007543</td>\n",
              "      <td>1.032221</td>\n",
              "      <td>0.994764</td>\n",
              "      <td>0.979167</td>\n",
              "      <td>0.995696</td>\n",
              "      <td>1.029412</td>\n",
              "      <td>1.003836</td>\n",
              "      <td>1.056604</td>\n",
              "      <td>1.005782</td>\n",
              "      <td>0.986252</td>\n",
              "      <td>1.029685</td>\n",
              "      <td>1.017967</td>\n",
              "      <td>1.004811</td>\n",
              "      <td>1.009657</td>\n",
              "    </tr>\n",
              "    <tr>\n",
              "      <th>2020-05-06</th>\n",
              "      <td>1.002383</td>\n",
              "      <td>0.994246</td>\n",
              "      <td>1.009105</td>\n",
              "      <td>0.974648</td>\n",
              "      <td>0.990054</td>\n",
              "      <td>1.029412</td>\n",
              "      <td>1.024616</td>\n",
              "      <td>1.069182</td>\n",
              "      <td>1.001314</td>\n",
              "      <td>0.974889</td>\n",
              "      <td>1.068584</td>\n",
              "      <td>1.032210</td>\n",
              "      <td>0.998311</td>\n",
              "      <td>1.014477</td>\n",
              "    </tr>\n",
              "    <tr>\n",
              "      <th>2020-05-07</th>\n",
              "      <td>0.990403</td>\n",
              "      <td>1.003452</td>\n",
              "      <td>1.048259</td>\n",
              "      <td>0.981175</td>\n",
              "      <td>0.991679</td>\n",
              "      <td>0.985294</td>\n",
              "      <td>1.023018</td>\n",
              "      <td>1.069182</td>\n",
              "      <td>0.990802</td>\n",
              "      <td>0.954437</td>\n",
              "      <td>1.100000</td>\n",
              "      <td>1.081560</td>\n",
              "      <td>1.064120</td>\n",
              "      <td>1.026049</td>\n",
              "    </tr>\n",
              "    <tr>\n",
              "      <th>2020-05-08</th>\n",
              "      <td>1.017585</td>\n",
              "      <td>1.063291</td>\n",
              "      <td>1.111996</td>\n",
              "      <td>0.959839</td>\n",
              "      <td>1.001148</td>\n",
              "      <td>1.014706</td>\n",
              "      <td>1.039003</td>\n",
              "      <td>1.037736</td>\n",
              "      <td>1.017477</td>\n",
              "      <td>0.955573</td>\n",
              "      <td>1.110054</td>\n",
              "      <td>1.068262</td>\n",
              "      <td>1.088846</td>\n",
              "      <td>1.035964</td>\n",
              "    </tr>\n",
              "  </tbody>\n",
              "</table>\n",
              "</div>"
            ],
            "text/plain": [
              "                IBOV  PETR4.SA  VALE3.SA  ...  IVVB11.SA   ETH-BRL  PL Total\n",
              "Date                                      ...                               \n",
              "2020-05-04  1.000000  1.000000  1.000000  ...   1.000000  1.000000  1.000000\n",
              "2020-05-05  1.007543  1.032221  0.994764  ...   1.017967  1.004811  1.009657\n",
              "2020-05-06  1.002383  0.994246  1.009105  ...   1.032210  0.998311  1.014477\n",
              "2020-05-07  0.990403  1.003452  1.048259  ...   1.081560  1.064120  1.026049\n",
              "2020-05-08  1.017585  1.063291  1.111996  ...   1.068262  1.088846  1.035964\n",
              "\n",
              "[5 rows x 14 columns]"
            ]
          },
          "metadata": {},
          "execution_count": 33
        }
      ]
    },
    {
      "cell_type": "code",
      "metadata": {
        "colab": {
          "base_uri": "https://localhost:8080/",
          "height": 235
        },
        "id": "qV56DhMXX0YJ",
        "outputId": "3de5e142-43eb-4816-afcb-3fb87e47df1f"
      },
      "source": [
        "PL_normalizado.tail()"
      ],
      "execution_count": 34,
      "outputs": [
        {
          "output_type": "execute_result",
          "data": {
            "text/html": [
              "<div>\n",
              "<style scoped>\n",
              "    .dataframe tbody tr th:only-of-type {\n",
              "        vertical-align: middle;\n",
              "    }\n",
              "\n",
              "    .dataframe tbody tr th {\n",
              "        vertical-align: top;\n",
              "    }\n",
              "\n",
              "    .dataframe thead th {\n",
              "        text-align: right;\n",
              "    }\n",
              "</style>\n",
              "<table border=\"1\" class=\"dataframe\">\n",
              "  <thead>\n",
              "    <tr style=\"text-align: right;\">\n",
              "      <th></th>\n",
              "      <th>IBOV</th>\n",
              "      <th>PETR4.SA</th>\n",
              "      <th>VALE3.SA</th>\n",
              "      <th>WEGE3.SA</th>\n",
              "      <th>RADL3.SA</th>\n",
              "      <th>OIBR3.SA</th>\n",
              "      <th>KNRI11.SA</th>\n",
              "      <th>FLMA11.SA</th>\n",
              "      <th>BOVA11.SA</th>\n",
              "      <th>SMAL11.SA</th>\n",
              "      <th>AAPL34.SA</th>\n",
              "      <th>IVVB11.SA</th>\n",
              "      <th>ETH-BRL</th>\n",
              "      <th>PL Total</th>\n",
              "    </tr>\n",
              "    <tr>\n",
              "      <th>Date</th>\n",
              "      <th></th>\n",
              "      <th></th>\n",
              "      <th></th>\n",
              "      <th></th>\n",
              "      <th></th>\n",
              "      <th></th>\n",
              "      <th></th>\n",
              "      <th></th>\n",
              "      <th></th>\n",
              "      <th></th>\n",
              "      <th></th>\n",
              "      <th></th>\n",
              "      <th></th>\n",
              "      <th></th>\n",
              "    </tr>\n",
              "  </thead>\n",
              "  <tbody>\n",
              "    <tr>\n",
              "      <th>2021-08-17</th>\n",
              "      <td>1.494802</td>\n",
              "      <td>1.703360</td>\n",
              "      <td>2.704194</td>\n",
              "      <td>1.765511</td>\n",
              "      <td>1.222011</td>\n",
              "      <td>1.500000</td>\n",
              "      <td>0.849936</td>\n",
              "      <td>0.837547</td>\n",
              "      <td>1.489488</td>\n",
              "      <td>1.478241</td>\n",
              "      <td>1.981283</td>\n",
              "      <td>1.504433</td>\n",
              "      <td>13.907748</td>\n",
              "      <td>1.806030</td>\n",
              "    </tr>\n",
              "    <tr>\n",
              "      <th>2021-08-18</th>\n",
              "      <td>1.478815</td>\n",
              "      <td>1.688236</td>\n",
              "      <td>2.613465</td>\n",
              "      <td>1.709019</td>\n",
              "      <td>1.217200</td>\n",
              "      <td>1.485294</td>\n",
              "      <td>0.850192</td>\n",
              "      <td>0.830189</td>\n",
              "      <td>1.472536</td>\n",
              "      <td>1.480173</td>\n",
              "      <td>1.976531</td>\n",
              "      <td>1.515957</td>\n",
              "      <td>14.023588</td>\n",
              "      <td>1.792404</td>\n",
              "    </tr>\n",
              "    <tr>\n",
              "      <th>2021-08-19</th>\n",
              "      <td>1.485433</td>\n",
              "      <td>1.678783</td>\n",
              "      <td>2.464355</td>\n",
              "      <td>1.790958</td>\n",
              "      <td>1.261461</td>\n",
              "      <td>1.500000</td>\n",
              "      <td>0.839514</td>\n",
              "      <td>0.833333</td>\n",
              "      <td>1.482917</td>\n",
              "      <td>1.516873</td>\n",
              "      <td>1.992788</td>\n",
              "      <td>1.538948</td>\n",
              "      <td>15.013985</td>\n",
              "      <td>1.823014</td>\n",
              "    </tr>\n",
              "    <tr>\n",
              "      <th>2021-08-20</th>\n",
              "      <td>1.496691</td>\n",
              "      <td>1.676263</td>\n",
              "      <td>2.465366</td>\n",
              "      <td>1.831164</td>\n",
              "      <td>1.283111</td>\n",
              "      <td>1.529412</td>\n",
              "      <td>0.852238</td>\n",
              "      <td>0.832138</td>\n",
              "      <td>1.493430</td>\n",
              "      <td>1.544256</td>\n",
              "      <td>1.996789</td>\n",
              "      <td>1.535402</td>\n",
              "      <td>15.608033</td>\n",
              "      <td>1.844812</td>\n",
              "    </tr>\n",
              "    <tr>\n",
              "      <th>2021-08-23</th>\n",
              "      <td>1.489325</td>\n",
              "      <td>1.702730</td>\n",
              "      <td>2.431247</td>\n",
              "      <td>1.819458</td>\n",
              "      <td>1.274932</td>\n",
              "      <td>1.691176</td>\n",
              "      <td>0.890281</td>\n",
              "      <td>0.819811</td>\n",
              "      <td>1.485545</td>\n",
              "      <td>1.544143</td>\n",
              "      <td>2.018548</td>\n",
              "      <td>1.554905</td>\n",
              "      <td>15.659331</td>\n",
              "      <td>1.853065</td>\n",
              "    </tr>\n",
              "  </tbody>\n",
              "</table>\n",
              "</div>"
            ],
            "text/plain": [
              "                IBOV  PETR4.SA  VALE3.SA  ...  IVVB11.SA    ETH-BRL  PL Total\n",
              "Date                                      ...                                \n",
              "2021-08-17  1.494802  1.703360  2.704194  ...   1.504433  13.907748  1.806030\n",
              "2021-08-18  1.478815  1.688236  2.613465  ...   1.515957  14.023588  1.792404\n",
              "2021-08-19  1.485433  1.678783  2.464355  ...   1.538948  15.013985  1.823014\n",
              "2021-08-20  1.496691  1.676263  2.465366  ...   1.535402  15.608033  1.844812\n",
              "2021-08-23  1.489325  1.702730  2.431247  ...   1.554905  15.659331  1.853065\n",
              "\n",
              "[5 rows x 14 columns]"
            ]
          },
          "metadata": {},
          "execution_count": 34
        }
      ]
    },
    {
      "cell_type": "markdown",
      "metadata": {
        "id": "2U2vt34Rh49d"
      },
      "source": [
        "Plot da nossa carteira vs. o IBOV"
      ]
    },
    {
      "cell_type": "code",
      "metadata": {
        "colab": {
          "base_uri": "https://localhost:8080/",
          "height": 571
        },
        "id": "n-EFVvb9X12F",
        "outputId": "80c0c899-54fc-4e08-aca5-de2602e3b955"
      },
      "source": [
        "PL_normalizado[['IBOV', 'PL Total']].plot(figsize = (10,10));"
      ],
      "execution_count": 35,
      "outputs": [
        {
          "output_type": "display_data",
          "data": {
            "image/png": "[encoded data removed]",
            "text/plain": [
              "<Figure size 720x720 with 1 Axes>"
            ]
          },
          "metadata": {
            "needs_background": "light"
          }
        }
      ]
    },
    {
      "cell_type": "code",
      "metadata": {
        "id": "G_oa3Tc5YDC9"
      },
      "source": [
        ""
      ],
      "execution_count": 35,
      "outputs": []
    }
  ]
}